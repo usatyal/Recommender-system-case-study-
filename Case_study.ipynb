{
 "cells": [
  {
   "cell_type": "markdown",
   "metadata": {},
   "source": [
    "## Comparing different recommender for library data"
   ]
  },
  {
   "cell_type": "markdown",
   "metadata": {},
   "source": [
    "## Library"
   ]
  },
  {
   "cell_type": "markdown",
   "metadata": {},
   "source": [
    "Loading basic python libraries:"
   ]
  },
  {
   "cell_type": "code",
   "execution_count": 1,
   "metadata": {},
   "outputs": [],
   "source": [
    "import pandas as pd # to load the dataset and basic operation\n",
    "import numpy as np # working with array\n",
    "import matplotlib.pyplot as plt # plotting\n",
    "from datetime import datetime # to calculate the age of customer\n",
    "from sklearn.preprocessing import MinMaxScaler # to normalize rating\n",
    "from IPython.display import HTML, display # to display html table"
   ]
  },
  {
   "cell_type": "markdown",
   "metadata": {},
   "source": [
    "Importing libraries used for recommendation: "
   ]
  },
  {
   "cell_type": "code",
   "execution_count": 2,
   "metadata": {},
   "outputs": [],
   "source": [
    "#Importing Surprise library\n",
    "from surprise import accuracy, Reader, Dataset, evaluate\n",
    "from surprise.model_selection import KFold, cross_validate\n",
    "\n",
    "#algorithms\n",
    "from surprise import NormalPredictor, BaselineOnly, SVD, SVDpp, NMF, KNNBasic, KNNWithMeans, KNNWithZScore, KNNBaseline, SlopeOne, CoClustering"
   ]
  },
  {
   "cell_type": "markdown",
   "metadata": {},
   "source": [
    "## Data"
   ]
  },
  {
   "cell_type": "markdown",
   "metadata": {},
   "source": [
    "Importing datasets"
   ]
  },
  {
   "cell_type": "code",
   "execution_count": 3,
   "metadata": {},
   "outputs": [],
   "source": [
    "# artifacts return log\n",
    "LoanReturnDF = pd.read_csv(\"libdat_palautus.csv\", sep=\";\", encoding=\"latin1\")\n",
    "\n",
    "# artifacts loan log\n",
    "LoanDF =pd.read_csv(\"libdat_laina.csv\", sep=\";\", encoding=\"latin1\")\n",
    "\n",
    "# customer details\n",
    "CustomerDF = pd.read_csv(\"libdat_asiakas_sakk.csv\", sep=\";\", encoding=\"latin1\")\n",
    "\n",
    "# artifacts details\n",
    "ItemDF = pd.read_csv(\"libdat_teos.csv\", sep=\";\", encoding=\"latin1\")\n",
    "\n",
    "# language data\n",
    "LanguageDF = pd.read_csv(\"libdat_kieli.csv\", sep=\";\", encoding=\"latin1\")\n",
    "\n",
    "# terminal data\n",
    "TerminalDF = pd.read_csv(\"libdat_terminaali.csv\", sep = \";\", encoding=\"latin1\")\n",
    "\n",
    "# material data\n",
    "MaterialDF = pd.read_csv(\"libdat_materiaali.csv\", sep=\";\", encoding=\"latin1\")\n",
    "\n",
    "# category data\n",
    "CategoryDF = pd.read_csv(\"libdat_aiheryhma.csv\", sep=\";\", encoding=\"latin1\")"
   ]
  },
  {
   "cell_type": "markdown",
   "metadata": {},
   "source": [
    "## Data Exploration"
   ]
  },
  {
   "cell_type": "code",
   "execution_count": 4,
   "metadata": {},
   "outputs": [
    {
     "name": "stdout",
     "output_type": "stream",
     "text": [
      "(1237595, 4)\n",
      "--------------------\n",
      "(1550694, 4)\n",
      "--------------------\n",
      "(127088, 7)\n",
      "--------------------\n",
      "(790653, 9)\n",
      "--------------------\n",
      "(485, 2)\n",
      "--------------------\n",
      "(46, 3)\n",
      "--------------------\n",
      "(26, 2)\n",
      "--------------------\n",
      "(106, 2)\n",
      "--------------------\n"
     ]
    }
   ],
   "source": [
    "# shape of the datasets\n",
    "DataSets = [LoanReturnDF, LoanDF, CustomerDF, ItemDF, LanguageDF, TerminalDF, MaterialDF, CategoryDF]\n",
    "for dataset in DataSets:\n",
    "    print(dataset.shape)\n",
    "    print('--------------------')"
   ]
  },
  {
   "cell_type": "code",
   "execution_count": 5,
   "metadata": {},
   "outputs": [
    {
     "data": {
      "text/html": [
       "<div>\n",
       "<style scoped>\n",
       "    .dataframe tbody tr th:only-of-type {\n",
       "        vertical-align: middle;\n",
       "    }\n",
       "\n",
       "    .dataframe tbody tr th {\n",
       "        vertical-align: top;\n",
       "    }\n",
       "\n",
       "    .dataframe thead th {\n",
       "        text-align: right;\n",
       "    }\n",
       "</style>\n",
       "<table border=\"1\" class=\"dataframe\">\n",
       "  <thead>\n",
       "    <tr style=\"text-align: right;\">\n",
       "      <th></th>\n",
       "      <th>asiakas_id</th>\n",
       "      <th>sukupuoli</th>\n",
       "      <th>syntymaaika</th>\n",
       "      <th>lainoja_yht</th>\n",
       "      <th>lainoja_31-10-2017</th>\n",
       "      <th>asioimiskieli</th>\n",
       "      <th>postinumero</th>\n",
       "    </tr>\n",
       "  </thead>\n",
       "  <tbody>\n",
       "    <tr>\n",
       "      <th>0</th>\n",
       "      <td>1024945135</td>\n",
       "      <td>mies</td>\n",
       "      <td>05.1943</td>\n",
       "      <td>836</td>\n",
       "      <td>7</td>\n",
       "      <td>fin</td>\n",
       "      <td>01280 Vantaa</td>\n",
       "    </tr>\n",
       "    <tr>\n",
       "      <th>1</th>\n",
       "      <td>1024959401</td>\n",
       "      <td>nainen</td>\n",
       "      <td>07.1966</td>\n",
       "      <td>42</td>\n",
       "      <td>0</td>\n",
       "      <td>fin</td>\n",
       "      <td>01710 Vantaa</td>\n",
       "    </tr>\n",
       "    <tr>\n",
       "      <th>2</th>\n",
       "      <td>1024962272</td>\n",
       "      <td>nainen</td>\n",
       "      <td>06.1958</td>\n",
       "      <td>471</td>\n",
       "      <td>1</td>\n",
       "      <td>fin</td>\n",
       "      <td>01360 Vantaa</td>\n",
       "    </tr>\n",
       "    <tr>\n",
       "      <th>3</th>\n",
       "      <td>1025005401</td>\n",
       "      <td>nainen</td>\n",
       "      <td>10.1959</td>\n",
       "      <td>11</td>\n",
       "      <td>0</td>\n",
       "      <td>fin</td>\n",
       "      <td>01350 Vantaa</td>\n",
       "    </tr>\n",
       "    <tr>\n",
       "      <th>4</th>\n",
       "      <td>1025015368</td>\n",
       "      <td>nainen</td>\n",
       "      <td>11.1984</td>\n",
       "      <td>141</td>\n",
       "      <td>0</td>\n",
       "      <td>fin</td>\n",
       "      <td>01200 Vantaa</td>\n",
       "    </tr>\n",
       "  </tbody>\n",
       "</table>\n",
       "</div>"
      ],
      "text/plain": [
       "   asiakas_id sukupuoli syntymaaika  lainoja_yht  lainoja_31-10-2017  \\\n",
       "0  1024945135      mies     05.1943          836                   7   \n",
       "1  1024959401    nainen     07.1966           42                   0   \n",
       "2  1024962272    nainen     06.1958          471                   1   \n",
       "3  1025005401    nainen     10.1959           11                   0   \n",
       "4  1025015368    nainen     11.1984          141                   0   \n",
       "\n",
       "  asioimiskieli   postinumero  \n",
       "0           fin  01280 Vantaa  \n",
       "1           fin  01710 Vantaa  \n",
       "2           fin  01360 Vantaa  \n",
       "3           fin  01350 Vantaa  \n",
       "4           fin  01200 Vantaa  "
      ]
     },
     "execution_count": 5,
     "metadata": {},
     "output_type": "execute_result"
    }
   ],
   "source": [
    "# structure of customer data\n",
    "CustomerDF.head()"
   ]
  },
  {
   "cell_type": "code",
   "execution_count": 6,
   "metadata": {},
   "outputs": [
    {
     "data": {
      "text/plain": [
       "nainen       75354\n",
       "mies         51558\n",
       "ei tietoa      163\n",
       "muu             13\n",
       "Name: sukupuoli, dtype: int64"
      ]
     },
     "execution_count": 6,
     "metadata": {},
     "output_type": "execute_result"
    }
   ],
   "source": [
    "# customer's sex distribution\n",
    "CustomerDF.sukupuoli.value_counts()"
   ]
  },
  {
   "cell_type": "code",
   "execution_count": 7,
   "metadata": {},
   "outputs": [
    {
     "data": {
      "text/plain": [
       "<matplotlib.axes._subplots.AxesSubplot at 0x1a4164fa20>"
      ]
     },
     "execution_count": 7,
     "metadata": {},
     "output_type": "execute_result"
    },
    {
     "data": {
      "image/png": "[encoded data removed]",
      "text/plain": [
       "<Figure size 432x288 with 1 Axes>"
      ]
     },
     "metadata": {
      "needs_background": "light"
     },
     "output_type": "display_data"
    }
   ],
   "source": [
    "# ploting sex distribution\n",
    "CustomerDF.sukupuoli.value_counts().plot(kind='bar')"
   ]
  },
  {
   "cell_type": "code",
   "execution_count": 8,
   "metadata": {},
   "outputs": [
    {
     "data": {
      "text/plain": [
       "fin    121157\n",
       "eng      4073\n",
       "swe      1855\n",
       "            3\n",
       "Name: asioimiskieli, dtype: int64"
      ]
     },
     "execution_count": 8,
     "metadata": {},
     "output_type": "execute_result"
    }
   ],
   "source": [
    "# customer care language\n",
    "CustomerDF.asioimiskieli.value_counts()"
   ]
  },
  {
   "cell_type": "code",
   "execution_count": 9,
   "metadata": {},
   "outputs": [
    {
     "data": {
      "text/plain": [
       "<matplotlib.axes._subplots.AxesSubplot at 0x10fde0208>"
      ]
     },
     "execution_count": 9,
     "metadata": {},
     "output_type": "execute_result"
    },
    {
     "data": {
      "image/png": "[encoded data removed]",
      "text/plain": [
       "<Figure size 432x288 with 1 Axes>"
      ]
     },
     "metadata": {
      "needs_background": "light"
     },
     "output_type": "display_data"
    }
   ],
   "source": [
    "#customer care language plot\n",
    "CustomerDF.asioimiskieli.value_counts().plot(kind='bar')"
   ]
  },
  {
   "cell_type": "code",
   "execution_count": 10,
   "metadata": {},
   "outputs": [],
   "source": [
    "# function to calculate age(+/-1)\n",
    "def calculate_age(b_date):\n",
    "    try:\n",
    "        b_date = datetime.strptime(b_date, '%d.%Y')\n",
    "    except ValueError:\n",
    "        b_date = datetime.strptime('01.2018', '%d.%Y')\n",
    "    today = datetime.today()\n",
    "    return today.year - b_date.year"
   ]
  },
  {
   "cell_type": "code",
   "execution_count": 11,
   "metadata": {},
   "outputs": [],
   "source": [
    "# calculating age of the customer and placing it in a coloumn\n",
    "CustomerDF['age'] = CustomerDF.syntymaaika.apply(calculate_age)"
   ]
  },
  {
   "cell_type": "code",
   "execution_count": 12,
   "metadata": {},
   "outputs": [
    {
     "data": {
      "text/plain": [
       "Text(0.5, 1.0, 'Age distribution of the customer')"
      ]
     },
     "execution_count": 12,
     "metadata": {},
     "output_type": "execute_result"
    },
    {
     "data": {
      "image/png": "[encoded data removed]",
      "text/plain": [
       "<Figure size 432x288 with 1 Axes>"
      ]
     },
     "metadata": {
      "needs_background": "light"
     },
     "output_type": "display_data"
    }
   ],
   "source": [
    "# age distribution of the customer\n",
    "CustomerDF.age.hist()\n",
    "plt.xlabel('Age')\n",
    "plt.ylabel('Frequency of customer')\n",
    "plt.title('Age distribution of the customer')"
   ]
  },
  {
   "cell_type": "code",
   "execution_count": 13,
   "metadata": {},
   "outputs": [
    {
     "data": {
      "text/html": [
       "<div>\n",
       "<style scoped>\n",
       "    .dataframe tbody tr th:only-of-type {\n",
       "        vertical-align: middle;\n",
       "    }\n",
       "\n",
       "    .dataframe tbody tr th {\n",
       "        vertical-align: top;\n",
       "    }\n",
       "\n",
       "    .dataframe thead th {\n",
       "        text-align: right;\n",
       "    }\n",
       "</style>\n",
       "<table border=\"1\" class=\"dataframe\">\n",
       "  <thead>\n",
       "    <tr style=\"text-align: right;\">\n",
       "      <th></th>\n",
       "      <th>asiakas_id</th>\n",
       "      <th>teos_id</th>\n",
       "      <th>aika</th>\n",
       "      <th>terminaali_id</th>\n",
       "    </tr>\n",
       "  </thead>\n",
       "  <tbody>\n",
       "    <tr>\n",
       "      <th>0</th>\n",
       "      <td>1519226433</td>\n",
       "      <td>b22474390</td>\n",
       "      <td>20.07.2016 07:48:00</td>\n",
       "      <td>63</td>\n",
       "    </tr>\n",
       "    <tr>\n",
       "      <th>1</th>\n",
       "      <td>1519226433</td>\n",
       "      <td>b22563714</td>\n",
       "      <td>20.07.2016 07:48:00</td>\n",
       "      <td>63</td>\n",
       "    </tr>\n",
       "    <tr>\n",
       "      <th>2</th>\n",
       "      <td>1994357295</td>\n",
       "      <td>b21786690</td>\n",
       "      <td>20.07.2016 07:57:00</td>\n",
       "      <td>57</td>\n",
       "    </tr>\n",
       "    <tr>\n",
       "      <th>3</th>\n",
       "      <td>1362508335</td>\n",
       "      <td>b22293267</td>\n",
       "      <td>20.07.2016 08:06:00</td>\n",
       "      <td>38</td>\n",
       "    </tr>\n",
       "    <tr>\n",
       "      <th>4</th>\n",
       "      <td>1362508335</td>\n",
       "      <td>b2255838x</td>\n",
       "      <td>20.07.2016 08:06:00</td>\n",
       "      <td>38</td>\n",
       "    </tr>\n",
       "  </tbody>\n",
       "</table>\n",
       "</div>"
      ],
      "text/plain": [
       "   asiakas_id    teos_id                 aika  terminaali_id\n",
       "0  1519226433  b22474390  20.07.2016 07:48:00             63\n",
       "1  1519226433  b22563714  20.07.2016 07:48:00             63\n",
       "2  1994357295  b21786690  20.07.2016 07:57:00             57\n",
       "3  1362508335  b22293267  20.07.2016 08:06:00             38\n",
       "4  1362508335  b2255838x  20.07.2016 08:06:00             38"
      ]
     },
     "execution_count": 13,
     "metadata": {},
     "output_type": "execute_result"
    }
   ],
   "source": [
    "# loan log\n",
    "LoanDF.head()"
   ]
  },
  {
   "cell_type": "code",
   "execution_count": 14,
   "metadata": {},
   "outputs": [
    {
     "data": {
      "text/html": [
       "<div>\n",
       "<style scoped>\n",
       "    .dataframe tbody tr th:only-of-type {\n",
       "        vertical-align: middle;\n",
       "    }\n",
       "\n",
       "    .dataframe tbody tr th {\n",
       "        vertical-align: top;\n",
       "    }\n",
       "\n",
       "    .dataframe thead th {\n",
       "        text-align: right;\n",
       "    }\n",
       "</style>\n",
       "<table border=\"1\" class=\"dataframe\">\n",
       "  <thead>\n",
       "    <tr style=\"text-align: right;\">\n",
       "      <th></th>\n",
       "      <th>asiakas_id</th>\n",
       "      <th>sukupuoli</th>\n",
       "      <th>syntymaaika</th>\n",
       "      <th>lainoja_yht</th>\n",
       "      <th>lainoja_31-10-2017</th>\n",
       "      <th>asioimiskieli</th>\n",
       "      <th>postinumero</th>\n",
       "      <th>age</th>\n",
       "      <th>teos_id</th>\n",
       "      <th>tekija</th>\n",
       "      <th>teos</th>\n",
       "      <th>kieli_id</th>\n",
       "      <th>materiaali_id</th>\n",
       "      <th>julkaisutiedot</th>\n",
       "      <th>aiheyhma_id</th>\n",
       "      <th>ulkoasutiedot</th>\n",
       "      <th>asiasanat</th>\n",
       "      <th>aika</th>\n",
       "      <th>terminaali_id</th>\n",
       "    </tr>\n",
       "  </thead>\n",
       "  <tbody>\n",
       "    <tr>\n",
       "      <th>0</th>\n",
       "      <td>1024945135</td>\n",
       "      <td>mies</td>\n",
       "      <td>05.1943</td>\n",
       "      <td>836</td>\n",
       "      <td>7</td>\n",
       "      <td>fin</td>\n",
       "      <td>01280 Vantaa</td>\n",
       "      <td>76</td>\n",
       "      <td>b10672874</td>\n",
       "      <td>NaN</td>\n",
       "      <td>Music of the gypsies</td>\n",
       "      <td>mul</td>\n",
       "      <td>3</td>\n",
       "      <td>London : World Music Network, p1999</td>\n",
       "      <td>72.0</td>\n",
       "      <td>1 CD-Ã¤Ã¤nilevy (69 min 48 sek) + esiteliite</td>\n",
       "      <td>perinnemusiikki|romanit|mustalaismusiikki|koko...</td>\n",
       "      <td>03.08.2016 11:05:00</td>\n",
       "      <td>97</td>\n",
       "    </tr>\n",
       "    <tr>\n",
       "      <th>1</th>\n",
       "      <td>1024945135</td>\n",
       "      <td>mies</td>\n",
       "      <td>05.1943</td>\n",
       "      <td>836</td>\n",
       "      <td>7</td>\n",
       "      <td>fin</td>\n",
       "      <td>01280 Vantaa</td>\n",
       "      <td>76</td>\n",
       "      <td>b11076781</td>\n",
       "      <td>NaN</td>\n",
       "      <td>Tiede : Vantaa</td>\n",
       "      <td>fin</td>\n",
       "      <td>9</td>\n",
       "      <td>Helsinki : Helsinki Media, 2001-</td>\n",
       "      <td>1.0</td>\n",
       "      <td>Kerran kuukaudessa</td>\n",
       "      <td>tiede|tieteet|tutkimus|tekniikka|biologia|hist...</td>\n",
       "      <td>19.10.2017 13:45:30</td>\n",
       "      <td>91</td>\n",
       "    </tr>\n",
       "    <tr>\n",
       "      <th>2</th>\n",
       "      <td>1024945135</td>\n",
       "      <td>mies</td>\n",
       "      <td>05.1943</td>\n",
       "      <td>836</td>\n",
       "      <td>7</td>\n",
       "      <td>fin</td>\n",
       "      <td>01280 Vantaa</td>\n",
       "      <td>76</td>\n",
       "      <td>b11777333</td>\n",
       "      <td>Brodsky Quartet, esittÃ¤jÃ¤</td>\n",
       "      <td>Brodsky unlimited : A compilation of the quart...</td>\n",
       "      <td>zxx</td>\n",
       "      <td>3</td>\n",
       "      <td>[Hamburg] : TELDEC Classics, p1991</td>\n",
       "      <td>73.0</td>\n",
       "      <td>1 CD-Ã¤Ã¤nilevy (55 min 58 s) : DDD + esiteliite</td>\n",
       "      <td>kvartetit|jousisoittimet</td>\n",
       "      <td>10.05.2017 10:17:01</td>\n",
       "      <td>98</td>\n",
       "    </tr>\n",
       "    <tr>\n",
       "      <th>3</th>\n",
       "      <td>1024945135</td>\n",
       "      <td>mies</td>\n",
       "      <td>05.1943</td>\n",
       "      <td>836</td>\n",
       "      <td>7</td>\n",
       "      <td>fin</td>\n",
       "      <td>01280 Vantaa</td>\n",
       "      <td>76</td>\n",
       "      <td>b12636010</td>\n",
       "      <td>Gould, Glenn, esittÃ¤jÃ¤</td>\n",
       "      <td>Glenn Gould plays Prokofiev Shostakovich</td>\n",
       "      <td>zxx</td>\n",
       "      <td>3</td>\n",
       "      <td>Pontelambro : Nuova Era, p1989</td>\n",
       "      <td>74.0</td>\n",
       "      <td>1 CD-Ã¤Ã¤nilevy (41 min 27 sek) + esiteliite</td>\n",
       "      <td>1930-1940-luku|1940-luku|piano|sonaatit|kvinte...</td>\n",
       "      <td>10.05.2017 10:16:57</td>\n",
       "      <td>98</td>\n",
       "    </tr>\n",
       "    <tr>\n",
       "      <th>4</th>\n",
       "      <td>1024945135</td>\n",
       "      <td>mies</td>\n",
       "      <td>05.1943</td>\n",
       "      <td>836</td>\n",
       "      <td>7</td>\n",
       "      <td>fin</td>\n",
       "      <td>01280 Vantaa</td>\n",
       "      <td>76</td>\n",
       "      <td>b12832984</td>\n",
       "      <td>Haydn, Joseph, sÃ¤veltÃ¤jÃ¤</td>\n",
       "      <td>Concertos for Flute &amp; Oboe</td>\n",
       "      <td>zxx</td>\n",
       "      <td>3</td>\n",
       "      <td>S.l. : CBS Inc., p1985</td>\n",
       "      <td>73.0</td>\n",
       "      <td>2 CD-Ã¤Ã¤nilevyÃ¤ : ADD + esiteliite</td>\n",
       "      <td>1770-luku|1700-luku|kaksoiskonsertot|huilu|obo...</td>\n",
       "      <td>11.01.2017 10:37:00</td>\n",
       "      <td>91</td>\n",
       "    </tr>\n",
       "  </tbody>\n",
       "</table>\n",
       "</div>"
      ],
      "text/plain": [
       "   asiakas_id sukupuoli syntymaaika  lainoja_yht  lainoja_31-10-2017  \\\n",
       "0  1024945135      mies     05.1943          836                   7   \n",
       "1  1024945135      mies     05.1943          836                   7   \n",
       "2  1024945135      mies     05.1943          836                   7   \n",
       "3  1024945135      mies     05.1943          836                   7   \n",
       "4  1024945135      mies     05.1943          836                   7   \n",
       "\n",
       "  asioimiskieli   postinumero  age    teos_id                       tekija  \\\n",
       "0           fin  01280 Vantaa   76  b10672874                          NaN   \n",
       "1           fin  01280 Vantaa   76  b11076781                          NaN   \n",
       "2           fin  01280 Vantaa   76  b11777333  Brodsky Quartet, esittÃ¤jÃ¤   \n",
       "3           fin  01280 Vantaa   76  b12636010     Gould, Glenn, esittÃ¤jÃ¤   \n",
       "4           fin  01280 Vantaa   76  b12832984  Haydn, Joseph, sÃ¤veltÃ¤jÃ¤   \n",
       "\n",
       "                                                teos kieli_id materiaali_id  \\\n",
       "0                               Music of the gypsies      mul             3   \n",
       "1                                     Tiede : Vantaa      fin             9   \n",
       "2  Brodsky unlimited : A compilation of the quart...      zxx             3   \n",
       "3           Glenn Gould plays Prokofiev Shostakovich      zxx             3   \n",
       "4                         Concertos for Flute & Oboe      zxx             3   \n",
       "\n",
       "                        julkaisutiedot  aiheyhma_id  \\\n",
       "0  London : World Music Network, p1999         72.0   \n",
       "1     Helsinki : Helsinki Media, 2001-          1.0   \n",
       "2   [Hamburg] : TELDEC Classics, p1991         73.0   \n",
       "3       Pontelambro : Nuova Era, p1989         74.0   \n",
       "4               S.l. : CBS Inc., p1985         73.0   \n",
       "\n",
       "                                      ulkoasutiedot  \\\n",
       "0      1 CD-Ã¤Ã¤nilevy (69 min 48 sek) + esiteliite   \n",
       "1                                Kerran kuukaudessa   \n",
       "2  1 CD-Ã¤Ã¤nilevy (55 min 58 s) : DDD + esiteliite   \n",
       "3      1 CD-Ã¤Ã¤nilevy (41 min 27 sek) + esiteliite   \n",
       "4              2 CD-Ã¤Ã¤nilevyÃ¤ : ADD + esiteliite   \n",
       "\n",
       "                                           asiasanat                 aika  \\\n",
       "0  perinnemusiikki|romanit|mustalaismusiikki|koko...  03.08.2016 11:05:00   \n",
       "1  tiede|tieteet|tutkimus|tekniikka|biologia|hist...  19.10.2017 13:45:30   \n",
       "2                           kvartetit|jousisoittimet  10.05.2017 10:17:01   \n",
       "3  1930-1940-luku|1940-luku|piano|sonaatit|kvinte...  10.05.2017 10:16:57   \n",
       "4  1770-luku|1700-luku|kaksoiskonsertot|huilu|obo...  11.01.2017 10:37:00   \n",
       "\n",
       "   terminaali_id  \n",
       "0             97  \n",
       "1             91  \n",
       "2             98  \n",
       "3             98  \n",
       "4             91  "
      ]
     },
     "execution_count": 14,
     "metadata": {},
     "output_type": "execute_result"
    }
   ],
   "source": [
    "# merging loan log with item dataset\n",
    "LoanDF = pd.merge(ItemDF, LoanDF, on='teos_id')\n",
    "# merging customer data too\n",
    "LoanDF = pd.merge(CustomerDF, LoanDF, on='asiakas_id')\n",
    "LoanDF.head()"
   ]
  },
  {
   "cell_type": "code",
   "execution_count": 15,
   "metadata": {},
   "outputs": [
    {
     "data": {
      "text/plain": [
       "Anna : Vantaa                          2654\n",
       "Hevoshullu : Vantaa                    2563\n",
       "Me naiset : Vantaa                     2505\n",
       "Kodin kuvalehti : Vantaa               2141\n",
       "Tieteen kuvalehti : Vantaa             1929\n",
       "Tieteen kuvalehti historia : Vantaa    1898\n",
       "Kauneus & terveys : Vantaa             1778\n",
       "Karvinen : Vantaa                      1747\n",
       "Tom ja Jerry : Vantaa                  1636\n",
       "Seura : Vantaa                         1619\n",
       "Name: teos, dtype: int64"
      ]
     },
     "execution_count": 15,
     "metadata": {},
     "output_type": "execute_result"
    }
   ],
   "source": [
    "# 10 most popular items in the entire dataset\n",
    "LoanDF.teos.value_counts().head(10)"
   ]
  },
  {
   "cell_type": "code",
   "execution_count": 16,
   "metadata": {},
   "outputs": [
    {
     "data": {
      "text/html": [
       "<div>\n",
       "<style scoped>\n",
       "    .dataframe tbody tr th:only-of-type {\n",
       "        vertical-align: middle;\n",
       "    }\n",
       "\n",
       "    .dataframe tbody tr th {\n",
       "        vertical-align: top;\n",
       "    }\n",
       "\n",
       "    .dataframe thead th {\n",
       "        text-align: right;\n",
       "    }\n",
       "</style>\n",
       "<table border=\"1\" class=\"dataframe\">\n",
       "  <thead>\n",
       "    <tr style=\"text-align: right;\">\n",
       "      <th></th>\n",
       "      <th>asiakas_id</th>\n",
       "      <th>teos_id</th>\n",
       "      <th>aika</th>\n",
       "      <th>terminaali_id</th>\n",
       "    </tr>\n",
       "  </thead>\n",
       "  <tbody>\n",
       "    <tr>\n",
       "      <th>0</th>\n",
       "      <td>1611169252</td>\n",
       "      <td>b11833981</td>\n",
       "      <td>20.07.2016 06:45:00</td>\n",
       "      <td>39</td>\n",
       "    </tr>\n",
       "    <tr>\n",
       "      <th>1</th>\n",
       "      <td>1611169252</td>\n",
       "      <td>b11834171</td>\n",
       "      <td>20.07.2016 06:45:00</td>\n",
       "      <td>39</td>\n",
       "    </tr>\n",
       "    <tr>\n",
       "      <th>2</th>\n",
       "      <td>1647567779</td>\n",
       "      <td>b21543859</td>\n",
       "      <td>20.07.2016 06:45:00</td>\n",
       "      <td>39</td>\n",
       "    </tr>\n",
       "    <tr>\n",
       "      <th>3</th>\n",
       "      <td>1647567779</td>\n",
       "      <td>b22277560</td>\n",
       "      <td>20.07.2016 06:45:00</td>\n",
       "      <td>39</td>\n",
       "    </tr>\n",
       "    <tr>\n",
       "      <th>4</th>\n",
       "      <td>2332402432</td>\n",
       "      <td>b16915677</td>\n",
       "      <td>20.07.2016 06:45:00</td>\n",
       "      <td>39</td>\n",
       "    </tr>\n",
       "  </tbody>\n",
       "</table>\n",
       "</div>"
      ],
      "text/plain": [
       "   asiakas_id    teos_id                 aika  terminaali_id\n",
       "0  1611169252  b11833981  20.07.2016 06:45:00             39\n",
       "1  1611169252  b11834171  20.07.2016 06:45:00             39\n",
       "2  1647567779  b21543859  20.07.2016 06:45:00             39\n",
       "3  1647567779  b22277560  20.07.2016 06:45:00             39\n",
       "4  2332402432  b16915677  20.07.2016 06:45:00             39"
      ]
     },
     "execution_count": 16,
     "metadata": {},
     "output_type": "execute_result"
    }
   ],
   "source": [
    "# Loan return log\n",
    "LoanReturnDF.head()"
   ]
  },
  {
   "cell_type": "code",
   "execution_count": 17,
   "metadata": {},
   "outputs": [
    {
     "data": {
      "text/html": [
       "<div>\n",
       "<style scoped>\n",
       "    .dataframe tbody tr th:only-of-type {\n",
       "        vertical-align: middle;\n",
       "    }\n",
       "\n",
       "    .dataframe tbody tr th {\n",
       "        vertical-align: top;\n",
       "    }\n",
       "\n",
       "    .dataframe thead th {\n",
       "        text-align: right;\n",
       "    }\n",
       "</style>\n",
       "<table border=\"1\" class=\"dataframe\">\n",
       "  <thead>\n",
       "    <tr style=\"text-align: right;\">\n",
       "      <th></th>\n",
       "      <th>teos_id</th>\n",
       "      <th>tekija</th>\n",
       "      <th>teos</th>\n",
       "      <th>kieli_id</th>\n",
       "      <th>materiaali_id</th>\n",
       "      <th>julkaisutiedot</th>\n",
       "      <th>aiheyhma_id</th>\n",
       "      <th>ulkoasutiedot</th>\n",
       "      <th>asiasanat</th>\n",
       "    </tr>\n",
       "  </thead>\n",
       "  <tbody>\n",
       "    <tr>\n",
       "      <th>0</th>\n",
       "      <td>b10000021</td>\n",
       "      <td>Helsingin kaupunki. Lasten pÃ¤ivÃ¤hoitovirasto</td>\n",
       "      <td>0-3 -vuotiaiden kehittÃ¤mistyÃ¶ryhmÃ¤n raportt...</td>\n",
       "      <td>fin</td>\n",
       "      <td>1</td>\n",
       "      <td>Helsinki, 1979</td>\n",
       "      <td>22.0</td>\n",
       "      <td>[16 sivua] : nid.|teksti txt rdacontent|kÃ¤yte...</td>\n",
       "      <td>NaN</td>\n",
       "    </tr>\n",
       "    <tr>\n",
       "      <th>1</th>\n",
       "      <td>b10000033</td>\n",
       "      <td>NaN</td>\n",
       "      <td>007 ja kultainen ase / directed by Guy Hamilto...</td>\n",
       "      <td>mul</td>\n",
       "      <td>g</td>\n",
       "      <td>Helsinki : FS Film, [2001]</td>\n",
       "      <td>89.0</td>\n",
       "      <td>1 DVD-levy (2 h) : vÃ¤r.</td>\n",
       "      <td>Bond, James, fikt.|1970-luku|Iso-Britannia|jÃ¤...</td>\n",
       "    </tr>\n",
       "    <tr>\n",
       "      <th>2</th>\n",
       "      <td>b10000057</td>\n",
       "      <td>NaN</td>\n",
       "      <td>007 ja kuoleman katse / directed by John Glen ...</td>\n",
       "      <td>mul</td>\n",
       "      <td>g</td>\n",
       "      <td>Helsinki : FS Film, [2001]</td>\n",
       "      <td>89.0</td>\n",
       "      <td>1 DVD-levy (2 h 7 min) : vÃ¤r.</td>\n",
       "      <td>Bond, James, fikt.|1980-luku|Iso-Britannia|jÃ¤...</td>\n",
       "    </tr>\n",
       "    <tr>\n",
       "      <th>3</th>\n",
       "      <td>b10000069</td>\n",
       "      <td>NaN</td>\n",
       "      <td>007 ja kuoleman katse : sarjakuvaversio</td>\n",
       "      <td>fin</td>\n",
       "      <td>1</td>\n",
       "      <td>[Tampere] : Semic, cop. 1986</td>\n",
       "      <td>92.0</td>\n",
       "      <td>50 sivua : kuvitettu|stillkuva sti rdacontent|...</td>\n",
       "      <td>sarjakuvat kaunokki|kaunokirjallisuus kaunokki</td>\n",
       "    </tr>\n",
       "    <tr>\n",
       "      <th>4</th>\n",
       "      <td>b10000082</td>\n",
       "      <td>NaN</td>\n",
       "      <td>007 ja kultainen silmÃ¤ / directed by Martin C...</td>\n",
       "      <td>mul</td>\n",
       "      <td>g</td>\n",
       "      <td>Helsinki : FS Film, [2001]</td>\n",
       "      <td>89.0</td>\n",
       "      <td>1 DVD-levy (2 h 4 min) : vÃ¤ri + tekstiliite</td>\n",
       "      <td>Bond, James, fikt.|1990-luku|Iso-Britannia|jÃ¤...</td>\n",
       "    </tr>\n",
       "  </tbody>\n",
       "</table>\n",
       "</div>"
      ],
      "text/plain": [
       "     teos_id                                          tekija  \\\n",
       "0  b10000021  Helsingin kaupunki. Lasten pÃ¤ivÃ¤hoitovirasto   \n",
       "1  b10000033                                             NaN   \n",
       "2  b10000057                                             NaN   \n",
       "3  b10000069                                             NaN   \n",
       "4  b10000082                                             NaN   \n",
       "\n",
       "                                                teos kieli_id materiaali_id  \\\n",
       "0  0-3 -vuotiaiden kehittÃ¤mistyÃ¶ryhmÃ¤n raportt...      fin             1   \n",
       "1  007 ja kultainen ase / directed by Guy Hamilto...      mul             g   \n",
       "2  007 ja kuoleman katse / directed by John Glen ...      mul             g   \n",
       "3            007 ja kuoleman katse : sarjakuvaversio      fin             1   \n",
       "4  007 ja kultainen silmÃ¤ / directed by Martin C...      mul             g   \n",
       "\n",
       "                 julkaisutiedot  aiheyhma_id  \\\n",
       "0                Helsinki, 1979         22.0   \n",
       "1    Helsinki : FS Film, [2001]         89.0   \n",
       "2    Helsinki : FS Film, [2001]         89.0   \n",
       "3  [Tampere] : Semic, cop. 1986         92.0   \n",
       "4    Helsinki : FS Film, [2001]         89.0   \n",
       "\n",
       "                                       ulkoasutiedot  \\\n",
       "0  [16 sivua] : nid.|teksti txt rdacontent|kÃ¤yte...   \n",
       "1                           1 DVD-levy (2 h) : vÃ¤r.   \n",
       "2                     1 DVD-levy (2 h 7 min) : vÃ¤r.   \n",
       "3  50 sivua : kuvitettu|stillkuva sti rdacontent|...   \n",
       "4       1 DVD-levy (2 h 4 min) : vÃ¤ri + tekstiliite   \n",
       "\n",
       "                                           asiasanat  \n",
       "0                                                NaN  \n",
       "1  Bond, James, fikt.|1970-luku|Iso-Britannia|jÃ¤...  \n",
       "2  Bond, James, fikt.|1980-luku|Iso-Britannia|jÃ¤...  \n",
       "3     sarjakuvat kaunokki|kaunokirjallisuus kaunokki  \n",
       "4  Bond, James, fikt.|1990-luku|Iso-Britannia|jÃ¤...  "
      ]
     },
     "execution_count": 17,
     "metadata": {},
     "output_type": "execute_result"
    }
   ],
   "source": [
    "# Item data\n",
    "ItemDF.head()"
   ]
  },
  {
   "cell_type": "markdown",
   "metadata": {},
   "source": [
    "## Preprocessing"
   ]
  },
  {
   "cell_type": "code",
   "execution_count": 18,
   "metadata": {},
   "outputs": [],
   "source": [
    "#finding common item percentage between different age group\n",
    "#between 30 and 40\n",
    "df = LoanDF\n",
    "df_30_40 = df.loc[(df['age'] >= 30) & (df['age'] <= 40)]\n",
    "df_30_40.name = \"dataset of users age between 30 to 40\"\n",
    "#between 40 and 50\n",
    "df_40_50 = df.loc[(df['age'] >= 40) & (df['age'] <= 50)]\n",
    "df_40_50.name = \"dataset of users age between 40 to 50\""
   ]
  },
  {
   "cell_type": "code",
   "execution_count": 19,
   "metadata": {},
   "outputs": [],
   "source": [
    "def findcommon(firstdf, seconddf):\n",
    "    firstdf_length = len(set(firstdf.teos_id))\n",
    "    seconddf_length = len(set(seconddf.teos_id))\n",
    "    common_item_length = len(set(firstdf.teos_id).intersection(set(seconddf.teos_id)))\n",
    "    first_percentage = round((common_item_length/firstdf_length)*100, 2)\n",
    "    second_percentage = round((common_item_length/seconddf_length)*100, 2)\n",
    "    print('No. of items in '+firstdf.name+' = '+str(firstdf_length))\n",
    "    print('No. of items in '+seconddf.name+' = '+str(seconddf_length))\n",
    "    print('No of common items between '+firstdf.name+' and '+seconddf.name+ ' = '+str(common_item_length))\n",
    "    print('which is '+str(first_percentage)+'% of '+firstdf.name+' and '+str(second_percentage)+'% of '+ seconddf.name)\n",
    "    \n",
    "    "
   ]
  },
  {
   "cell_type": "code",
   "execution_count": 20,
   "metadata": {},
   "outputs": [
    {
     "name": "stdout",
     "output_type": "stream",
     "text": [
      "No. of items in dataset of users age between 30 to 40 = 78665\n",
      "No. of items in dataset of users age between 40 to 50 = 94066\n",
      "No of common items between dataset of users age between 30 to 40 and dataset of users age between 40 to 50 = 51883\n",
      "which is 65.95% of dataset of users age between 30 to 40 and 55.16% of dataset of users age between 40 to 50\n"
     ]
    }
   ],
   "source": [
    "# common items between age group 30-40 and 40-50\n",
    "findcommon(df_30_40,df_40_50)"
   ]
  },
  {
   "cell_type": "code",
   "execution_count": 21,
   "metadata": {},
   "outputs": [
    {
     "data": {
      "text/html": [
       "<table><tr><td>Match(%)</td><td>10-20</td><td>20-30</td><td>30-40</td><td>40-50</td><td>50-60</td><td>60-70</td><td>70-80</td><td>80-90</td><td>90-100</td></tr><tr><td>10-20</td><td>100</td><td>46.45</td><td>61.27</td><td>66.94</td><td>49.55</td><td>33.63</td><td>22.0</td><td>6.73</td><td>0.62</td></tr><tr><td>20-30</td><td>40.45</td><td>100</td><td>64.53</td><td>62.68</td><td>53.1</td><td>39.75</td><td>26.07</td><td>8.95</td><td>0.89</td></tr><tr><td>30-40</td><td>31.09</td><td>37.61</td><td>100</td><td>65.95</td><td>49.47</td><td>36.79</td><td>24.45</td><td>8.4</td><td>0.84</td></tr><tr><td>40-50</td><td>28.41</td><td>30.55</td><td>55.16</td><td>100</td><td>52.41</td><td>37.3</td><td>24.83</td><td>8.56</td><td>0.81</td></tr><tr><td>50-60</td><td>24.58</td><td>30.25</td><td>48.36</td><td>61.26</td><td>100</td><td>47.9</td><td>30.44</td><td>11.03</td><td>1.04</td></tr><tr><td>60-70</td><td>21.32</td><td>28.95</td><td>45.96</td><td>55.73</td><td>61.22</td><td>100</td><td>41.22</td><td>14.84</td><td>1.38</td></tr><tr><td>70-80</td><td>21.65</td><td>29.47</td><td>47.42</td><td>57.59</td><td>60.39</td><td>63.98</td><td>100</td><td>23.27</td><td>2.17</td></tr><tr><td>80-90</td><td>21.84</td><td>33.39</td><td>53.76</td><td>65.48</td><td>72.19</td><td>75.99</td><td>76.8</td><td>100</td><td>6.58</td></tr><tr><td>90-100</td><td>22.41</td><td>36.72</td><td>59.23</td><td>68.95</td><td>75.43</td><td>48.49</td><td>79.39</td><td>72.82</td><td>100</td></tr></table>"
      ],
      "text/plain": [
       "<IPython.core.display.HTML object>"
      ]
     },
     "metadata": {},
     "output_type": "display_data"
    }
   ],
   "source": [
    "# common items between different age group\n",
    "data1 = [['Match(%)','10-20', '20-30', '30-40','40-50','50-60','60-70','70-80','80-90','90-100'],\n",
    "        ['10-20',100,46.45,61.27,66.94,49.55,33.63,22.0,6.73,0.62],\n",
    "        ['20-30',40.45,100,64.53,62.68,53.1,39.75,26.07,8.95,0.89],\n",
    "        ['30-40',31.09,37.61,100,65.95,49.47,36.79,24.45,8.4,0.84],\n",
    "        ['40-50',28.41,30.55,55.16,100,52.41,37.3,24.83,8.56,0.81],\n",
    "        ['50-60',24.58,30.25,48.36,61.26,100,47.9,30.44,11.03,1.04],\n",
    "        ['60-70',21.32,28.95,45.96,55.73,61.22,100,41.22,14.84,1.38],\n",
    "        ['70-80',21.65,29.47,47.42,57.59,60.39,63.98,100,23.27,2.17],\n",
    "        ['80-90',21.84,33.39,53.76,65.48,72.19,75.99,76.8,100,6.58],\n",
    "        ['90-100',22.41,36.72,59.23,68.95,75.43,48.49,79.39,72.82,100],\n",
    "       ]\n",
    "\n",
    "\n",
    "display(HTML(\n",
    "   '<table><tr>{}</tr></table>'.format(\n",
    "       '</tr><tr>'.join(\n",
    "           '<td>{}</td>'.format('</td><td>'.join(str(_) for _ in row)) for row in data1)\n",
    "       )\n",
    "))"
   ]
  },
  {
   "cell_type": "markdown",
   "metadata": {},
   "source": [
    "Looking at the table above, it seems like taking age as pre filtering factor is safe as we can not use the whole dataset for modeling due to the computational capacity of the machine."
   ]
  },
  {
   "cell_type": "code",
   "execution_count": 22,
   "metadata": {},
   "outputs": [
    {
     "data": {
      "text/plain": [
       "count    1550260.00\n",
       "mean         139.97\n",
       "std          322.55\n",
       "min            1.00\n",
       "25%            9.00\n",
       "50%           35.00\n",
       "75%          108.00\n",
       "max         2654.00\n",
       "Name: rating, dtype: float64"
      ]
     },
     "execution_count": 22,
     "metadata": {},
     "output_type": "execute_result"
    }
   ],
   "source": [
    "# Item popularity as computed rating\n",
    "df['rating'] = df.groupby('teos_id')['teos_id'].transform('count')\n",
    "round(df.rating.describe(),2)"
   ]
  },
  {
   "cell_type": "code",
   "execution_count": 23,
   "metadata": {},
   "outputs": [],
   "source": [
    "# taking a part of dataset, age as prefiltering factor, lets start by 40-60, this parameter will be tuned and checked\n",
    "## with other values\n",
    "df1 = df.loc[(df['age'] >= 10) & (df['age'] <= 90)]\n",
    "# taking only necessary parameters\n",
    "newdf = df1[['teos_id', 'rating', 'asiakas_id']].copy()"
   ]
  },
  {
   "cell_type": "code",
   "execution_count": 24,
   "metadata": {},
   "outputs": [
    {
     "data": {
      "text/plain": [
       "(1523576, 20)"
      ]
     },
     "execution_count": 24,
     "metadata": {},
     "output_type": "execute_result"
    }
   ],
   "source": [
    "df1.shape"
   ]
  },
  {
   "cell_type": "code",
   "execution_count": 25,
   "metadata": {},
   "outputs": [],
   "source": [
    "# renaming the coloumn to fit it to surprise library\n",
    "newdf.columns = [\"itemID\",\"rating\",\"userID\"]"
   ]
  },
  {
   "cell_type": "code",
   "execution_count": 26,
   "metadata": {},
   "outputs": [],
   "source": [
    "# removing the items that are borrowed only once\n",
    "newdf = newdf.loc[(newdf['rating'] > 1)]"
   ]
  },
  {
   "cell_type": "code",
   "execution_count": 27,
   "metadata": {},
   "outputs": [],
   "source": [
    "# there are only few items that are borrowed more than 1000 times, removing them as outlier\n",
    "newdf = newdf.loc[(newdf['rating'] < 1500)]\n",
    "# used only 10000 entries due to the computation reason. Increasing the size gives different result\n",
    "newdf = newdf.head(10000)"
   ]
  },
  {
   "cell_type": "code",
   "execution_count": 28,
   "metadata": {},
   "outputs": [
    {
     "data": {
      "text/plain": [
       "(10000, 3)"
      ]
     },
     "execution_count": 28,
     "metadata": {},
     "output_type": "execute_result"
    }
   ],
   "source": [
    "newdf.shape"
   ]
  },
  {
   "cell_type": "code",
   "execution_count": 29,
   "metadata": {},
   "outputs": [
    {
     "data": {
      "text/html": [
       "<div>\n",
       "<style scoped>\n",
       "    .dataframe tbody tr th:only-of-type {\n",
       "        vertical-align: middle;\n",
       "    }\n",
       "\n",
       "    .dataframe tbody tr th {\n",
       "        vertical-align: top;\n",
       "    }\n",
       "\n",
       "    .dataframe thead th {\n",
       "        text-align: right;\n",
       "    }\n",
       "</style>\n",
       "<table border=\"1\" class=\"dataframe\">\n",
       "  <thead>\n",
       "    <tr style=\"text-align: right;\">\n",
       "      <th></th>\n",
       "      <th>itemID</th>\n",
       "      <th>rating</th>\n",
       "      <th>userID</th>\n",
       "    </tr>\n",
       "  </thead>\n",
       "  <tbody>\n",
       "    <tr>\n",
       "      <th>11335</th>\n",
       "      <td>b22558056</td>\n",
       "      <td>182</td>\n",
       "      <td>1029334396</td>\n",
       "    </tr>\n",
       "    <tr>\n",
       "      <th>11336</th>\n",
       "      <td>b22558275</td>\n",
       "      <td>236</td>\n",
       "      <td>1029334396</td>\n",
       "    </tr>\n",
       "    <tr>\n",
       "      <th>11337</th>\n",
       "      <td>b2256892x</td>\n",
       "      <td>179</td>\n",
       "      <td>1029334396</td>\n",
       "    </tr>\n",
       "    <tr>\n",
       "      <th>11338</th>\n",
       "      <td>b22751087</td>\n",
       "      <td>150</td>\n",
       "      <td>1029334396</td>\n",
       "    </tr>\n",
       "    <tr>\n",
       "      <th>11339</th>\n",
       "      <td>b2275295x</td>\n",
       "      <td>123</td>\n",
       "      <td>1029334396</td>\n",
       "    </tr>\n",
       "    <tr>\n",
       "      <th>11340</th>\n",
       "      <td>b22753242</td>\n",
       "      <td>157</td>\n",
       "      <td>1029334396</td>\n",
       "    </tr>\n",
       "    <tr>\n",
       "      <th>11341</th>\n",
       "      <td>b22753242</td>\n",
       "      <td>157</td>\n",
       "      <td>1029334396</td>\n",
       "    </tr>\n",
       "    <tr>\n",
       "      <th>11342</th>\n",
       "      <td>b22753266</td>\n",
       "      <td>346</td>\n",
       "      <td>1029334396</td>\n",
       "    </tr>\n",
       "    <tr>\n",
       "      <th>11343</th>\n",
       "      <td>b22761287</td>\n",
       "      <td>98</td>\n",
       "      <td>1029334396</td>\n",
       "    </tr>\n",
       "    <tr>\n",
       "      <th>11344</th>\n",
       "      <td>b22770136</td>\n",
       "      <td>258</td>\n",
       "      <td>1029334396</td>\n",
       "    </tr>\n",
       "    <tr>\n",
       "      <th>11345</th>\n",
       "      <td>b22771384</td>\n",
       "      <td>246</td>\n",
       "      <td>1029334396</td>\n",
       "    </tr>\n",
       "    <tr>\n",
       "      <th>11346</th>\n",
       "      <td>b22771384</td>\n",
       "      <td>246</td>\n",
       "      <td>1029334396</td>\n",
       "    </tr>\n",
       "    <tr>\n",
       "      <th>11347</th>\n",
       "      <td>b22776515</td>\n",
       "      <td>87</td>\n",
       "      <td>1029334396</td>\n",
       "    </tr>\n",
       "    <tr>\n",
       "      <th>11348</th>\n",
       "      <td>b22778901</td>\n",
       "      <td>157</td>\n",
       "      <td>1029334396</td>\n",
       "    </tr>\n",
       "    <tr>\n",
       "      <th>11349</th>\n",
       "      <td>b22778901</td>\n",
       "      <td>157</td>\n",
       "      <td>1029334396</td>\n",
       "    </tr>\n",
       "    <tr>\n",
       "      <th>11350</th>\n",
       "      <td>b22779012</td>\n",
       "      <td>296</td>\n",
       "      <td>1029334396</td>\n",
       "    </tr>\n",
       "    <tr>\n",
       "      <th>11351</th>\n",
       "      <td>b22789145</td>\n",
       "      <td>100</td>\n",
       "      <td>1029334396</td>\n",
       "    </tr>\n",
       "    <tr>\n",
       "      <th>11352</th>\n",
       "      <td>b2280867x</td>\n",
       "      <td>92</td>\n",
       "      <td>1029334396</td>\n",
       "    </tr>\n",
       "    <tr>\n",
       "      <th>11353</th>\n",
       "      <td>b22808747</td>\n",
       "      <td>35</td>\n",
       "      <td>1029334396</td>\n",
       "    </tr>\n",
       "    <tr>\n",
       "      <th>11354</th>\n",
       "      <td>b23014052</td>\n",
       "      <td>37</td>\n",
       "      <td>1029334396</td>\n",
       "    </tr>\n",
       "    <tr>\n",
       "      <th>11355</th>\n",
       "      <td>b23027009</td>\n",
       "      <td>91</td>\n",
       "      <td>1029334396</td>\n",
       "    </tr>\n",
       "    <tr>\n",
       "      <th>11356</th>\n",
       "      <td>b22774932</td>\n",
       "      <td>18</td>\n",
       "      <td>1029339373</td>\n",
       "    </tr>\n",
       "    <tr>\n",
       "      <th>11357</th>\n",
       "      <td>b21649418</td>\n",
       "      <td>4</td>\n",
       "      <td>1029366639</td>\n",
       "    </tr>\n",
       "    <tr>\n",
       "      <th>11358</th>\n",
       "      <td>b22537867</td>\n",
       "      <td>66</td>\n",
       "      <td>1029366639</td>\n",
       "    </tr>\n",
       "    <tr>\n",
       "      <th>11361</th>\n",
       "      <td>b17756236</td>\n",
       "      <td>44</td>\n",
       "      <td>1029368576</td>\n",
       "    </tr>\n",
       "    <tr>\n",
       "      <th>11362</th>\n",
       "      <td>b17840946</td>\n",
       "      <td>24</td>\n",
       "      <td>1029368576</td>\n",
       "    </tr>\n",
       "    <tr>\n",
       "      <th>11363</th>\n",
       "      <td>b17840946</td>\n",
       "      <td>24</td>\n",
       "      <td>1029368576</td>\n",
       "    </tr>\n",
       "    <tr>\n",
       "      <th>11364</th>\n",
       "      <td>b20087585</td>\n",
       "      <td>19</td>\n",
       "      <td>1029368576</td>\n",
       "    </tr>\n",
       "    <tr>\n",
       "      <th>11365</th>\n",
       "      <td>b20574162</td>\n",
       "      <td>92</td>\n",
       "      <td>1029368576</td>\n",
       "    </tr>\n",
       "    <tr>\n",
       "      <th>11366</th>\n",
       "      <td>b21035210</td>\n",
       "      <td>20</td>\n",
       "      <td>1029368576</td>\n",
       "    </tr>\n",
       "    <tr>\n",
       "      <th>11367</th>\n",
       "      <td>b21833916</td>\n",
       "      <td>112</td>\n",
       "      <td>1029368576</td>\n",
       "    </tr>\n",
       "    <tr>\n",
       "      <th>11368</th>\n",
       "      <td>b22283596</td>\n",
       "      <td>387</td>\n",
       "      <td>1029368576</td>\n",
       "    </tr>\n",
       "    <tr>\n",
       "      <th>11369</th>\n",
       "      <td>b22531385</td>\n",
       "      <td>235</td>\n",
       "      <td>1029368576</td>\n",
       "    </tr>\n",
       "    <tr>\n",
       "      <th>11370</th>\n",
       "      <td>b22778548</td>\n",
       "      <td>228</td>\n",
       "      <td>1029368576</td>\n",
       "    </tr>\n",
       "    <tr>\n",
       "      <th>11371</th>\n",
       "      <td>b22789182</td>\n",
       "      <td>98</td>\n",
       "      <td>1029368576</td>\n",
       "    </tr>\n",
       "    <tr>\n",
       "      <th>11372</th>\n",
       "      <td>b12948226</td>\n",
       "      <td>14</td>\n",
       "      <td>1029376507</td>\n",
       "    </tr>\n",
       "    <tr>\n",
       "      <th>11373</th>\n",
       "      <td>b13170338</td>\n",
       "      <td>9</td>\n",
       "      <td>1029376507</td>\n",
       "    </tr>\n",
       "    <tr>\n",
       "      <th>11374</th>\n",
       "      <td>b13678231</td>\n",
       "      <td>26</td>\n",
       "      <td>1029376507</td>\n",
       "    </tr>\n",
       "    <tr>\n",
       "      <th>11375</th>\n",
       "      <td>b17135783</td>\n",
       "      <td>30</td>\n",
       "      <td>1029376507</td>\n",
       "    </tr>\n",
       "    <tr>\n",
       "      <th>11376</th>\n",
       "      <td>b17721428</td>\n",
       "      <td>28</td>\n",
       "      <td>1029376507</td>\n",
       "    </tr>\n",
       "    <tr>\n",
       "      <th>11377</th>\n",
       "      <td>b18344550</td>\n",
       "      <td>18</td>\n",
       "      <td>1029376507</td>\n",
       "    </tr>\n",
       "    <tr>\n",
       "      <th>11378</th>\n",
       "      <td>b18674410</td>\n",
       "      <td>97</td>\n",
       "      <td>1029376507</td>\n",
       "    </tr>\n",
       "    <tr>\n",
       "      <th>11379</th>\n",
       "      <td>b19016062</td>\n",
       "      <td>17</td>\n",
       "      <td>1029376507</td>\n",
       "    </tr>\n",
       "    <tr>\n",
       "      <th>11380</th>\n",
       "      <td>b19108679</td>\n",
       "      <td>23</td>\n",
       "      <td>1029376507</td>\n",
       "    </tr>\n",
       "    <tr>\n",
       "      <th>11381</th>\n",
       "      <td>b19357795</td>\n",
       "      <td>31</td>\n",
       "      <td>1029376507</td>\n",
       "    </tr>\n",
       "    <tr>\n",
       "      <th>11382</th>\n",
       "      <td>b19634122</td>\n",
       "      <td>125</td>\n",
       "      <td>1029376507</td>\n",
       "    </tr>\n",
       "    <tr>\n",
       "      <th>11383</th>\n",
       "      <td>b19869617</td>\n",
       "      <td>44</td>\n",
       "      <td>1029376507</td>\n",
       "    </tr>\n",
       "    <tr>\n",
       "      <th>11384</th>\n",
       "      <td>b20080797</td>\n",
       "      <td>2</td>\n",
       "      <td>1029376507</td>\n",
       "    </tr>\n",
       "    <tr>\n",
       "      <th>11385</th>\n",
       "      <td>b20098583</td>\n",
       "      <td>39</td>\n",
       "      <td>1029376507</td>\n",
       "    </tr>\n",
       "    <tr>\n",
       "      <th>11386</th>\n",
       "      <td>b20150970</td>\n",
       "      <td>150</td>\n",
       "      <td>1029376507</td>\n",
       "    </tr>\n",
       "  </tbody>\n",
       "</table>\n",
       "</div>"
      ],
      "text/plain": [
       "          itemID  rating      userID\n",
       "11335  b22558056     182  1029334396\n",
       "11336  b22558275     236  1029334396\n",
       "11337  b2256892x     179  1029334396\n",
       "11338  b22751087     150  1029334396\n",
       "11339  b2275295x     123  1029334396\n",
       "11340  b22753242     157  1029334396\n",
       "11341  b22753242     157  1029334396\n",
       "11342  b22753266     346  1029334396\n",
       "11343  b22761287      98  1029334396\n",
       "11344  b22770136     258  1029334396\n",
       "11345  b22771384     246  1029334396\n",
       "11346  b22771384     246  1029334396\n",
       "11347  b22776515      87  1029334396\n",
       "11348  b22778901     157  1029334396\n",
       "11349  b22778901     157  1029334396\n",
       "11350  b22779012     296  1029334396\n",
       "11351  b22789145     100  1029334396\n",
       "11352  b2280867x      92  1029334396\n",
       "11353  b22808747      35  1029334396\n",
       "11354  b23014052      37  1029334396\n",
       "11355  b23027009      91  1029334396\n",
       "11356  b22774932      18  1029339373\n",
       "11357  b21649418       4  1029366639\n",
       "11358  b22537867      66  1029366639\n",
       "11361  b17756236      44  1029368576\n",
       "11362  b17840946      24  1029368576\n",
       "11363  b17840946      24  1029368576\n",
       "11364  b20087585      19  1029368576\n",
       "11365  b20574162      92  1029368576\n",
       "11366  b21035210      20  1029368576\n",
       "11367  b21833916     112  1029368576\n",
       "11368  b22283596     387  1029368576\n",
       "11369  b22531385     235  1029368576\n",
       "11370  b22778548     228  1029368576\n",
       "11371  b22789182      98  1029368576\n",
       "11372  b12948226      14  1029376507\n",
       "11373  b13170338       9  1029376507\n",
       "11374  b13678231      26  1029376507\n",
       "11375  b17135783      30  1029376507\n",
       "11376  b17721428      28  1029376507\n",
       "11377  b18344550      18  1029376507\n",
       "11378  b18674410      97  1029376507\n",
       "11379  b19016062      17  1029376507\n",
       "11380  b19108679      23  1029376507\n",
       "11381  b19357795      31  1029376507\n",
       "11382  b19634122     125  1029376507\n",
       "11383  b19869617      44  1029376507\n",
       "11384  b20080797       2  1029376507\n",
       "11385  b20098583      39  1029376507\n",
       "11386  b20150970     150  1029376507"
      ]
     },
     "execution_count": 29,
     "metadata": {},
     "output_type": "execute_result"
    }
   ],
   "source": [
    "newdf.tail(50)"
   ]
  },
  {
   "cell_type": "code",
   "execution_count": 30,
   "metadata": {},
   "outputs": [
    {
     "data": {
      "text/plain": [
       "<matplotlib.axes._subplots.AxesSubplot at 0x10f48beb8>"
      ]
     },
     "execution_count": 30,
     "metadata": {},
     "output_type": "execute_result"
    },
    {
     "data": {
      "image/png": "[encoded data removed]",
      "text/plain": [
       "<Figure size 432x288 with 1 Axes>"
      ]
     },
     "metadata": {
      "needs_background": "light"
     },
     "output_type": "display_data"
    }
   ],
   "source": [
    "#displaying ratings\n",
    "newdf.rating.hist()"
   ]
  },
  {
   "cell_type": "code",
   "execution_count": 31,
   "metadata": {},
   "outputs": [
    {
     "name": "stderr",
     "output_type": "stream",
     "text": [
      "/anaconda3/lib/python3.6/site-packages/sklearn/utils/validation.py:590: DataConversionWarning: Data with input dtype int64 was converted to float64 by MinMaxScaler.\n",
      "  warnings.warn(msg, DataConversionWarning)\n"
     ]
    }
   ],
   "source": [
    "#converting the rating in the scale 1-10\n",
    "min_max_scaler = MinMaxScaler(feature_range=(1, 10), copy=True)\n",
    "column_names_to_normalize = ['rating']\n",
    "x = newdf[column_names_to_normalize].values\n",
    "x_scaled = min_max_scaler.fit_transform(x)\n",
    "df_temp = pd.DataFrame(x_scaled, columns=column_names_to_normalize, index = newdf.index)\n",
    "newdf[column_names_to_normalize] = df_temp"
   ]
  },
  {
   "cell_type": "code",
   "execution_count": 32,
   "metadata": {},
   "outputs": [
    {
     "data": {
      "text/html": [
       "<div>\n",
       "<style scoped>\n",
       "    .dataframe tbody tr th:only-of-type {\n",
       "        vertical-align: middle;\n",
       "    }\n",
       "\n",
       "    .dataframe tbody tr th {\n",
       "        vertical-align: top;\n",
       "    }\n",
       "\n",
       "    .dataframe thead th {\n",
       "        text-align: right;\n",
       "    }\n",
       "</style>\n",
       "<table border=\"1\" class=\"dataframe\">\n",
       "  <thead>\n",
       "    <tr style=\"text-align: right;\">\n",
       "      <th></th>\n",
       "      <th>itemID</th>\n",
       "      <th>rating</th>\n",
       "      <th>userID</th>\n",
       "    </tr>\n",
       "  </thead>\n",
       "  <tbody>\n",
       "    <tr>\n",
       "      <th>0</th>\n",
       "      <td>b10672874</td>\n",
       "      <td>1.012179</td>\n",
       "      <td>1024945135</td>\n",
       "    </tr>\n",
       "    <tr>\n",
       "      <th>1</th>\n",
       "      <td>b11076781</td>\n",
       "      <td>6.084574</td>\n",
       "      <td>1024945135</td>\n",
       "    </tr>\n",
       "    <tr>\n",
       "      <th>16</th>\n",
       "      <td>b16898278</td>\n",
       "      <td>1.006089</td>\n",
       "      <td>1024945135</td>\n",
       "    </tr>\n",
       "    <tr>\n",
       "      <th>19</th>\n",
       "      <td>b17626699</td>\n",
       "      <td>1.042625</td>\n",
       "      <td>1024945135</td>\n",
       "    </tr>\n",
       "    <tr>\n",
       "      <th>21</th>\n",
       "      <td>b18083262</td>\n",
       "      <td>1.073072</td>\n",
       "      <td>1024945135</td>\n",
       "    </tr>\n",
       "  </tbody>\n",
       "</table>\n",
       "</div>"
      ],
      "text/plain": [
       "       itemID    rating      userID\n",
       "0   b10672874  1.012179  1024945135\n",
       "1   b11076781  6.084574  1024945135\n",
       "16  b16898278  1.006089  1024945135\n",
       "19  b17626699  1.042625  1024945135\n",
       "21  b18083262  1.073072  1024945135"
      ]
     },
     "execution_count": 32,
     "metadata": {},
     "output_type": "execute_result"
    }
   ],
   "source": [
    "newdf.head()"
   ]
  },
  {
   "cell_type": "code",
   "execution_count": 33,
   "metadata": {},
   "outputs": [
    {
     "data": {
      "text/plain": [
       "<matplotlib.axes._subplots.AxesSubplot at 0x10f58b320>"
      ]
     },
     "execution_count": 33,
     "metadata": {},
     "output_type": "execute_result"
    },
    {
     "data": {
      "image/png": "[encoded data removed]",
      "text/plain": [
       "<Figure size 432x288 with 1 Axes>"
      ]
     },
     "metadata": {
      "needs_background": "light"
     },
     "output_type": "display_data"
    }
   ],
   "source": [
    "newdf.rating.hist()"
   ]
  },
  {
   "cell_type": "code",
   "execution_count": 34,
   "metadata": {},
   "outputs": [],
   "source": [
    "# preparing data for surprise lib\n",
    "reader = Reader(rating_scale=(1, 10))\n",
    "data = Dataset.load_from_df(newdf[['userID', 'itemID', 'rating']], reader)"
   ]
  },
  {
   "cell_type": "markdown",
   "metadata": {},
   "source": [
    "## Evaluating Algorithms"
   ]
  },
  {
   "cell_type": "code",
   "execution_count": 35,
   "metadata": {},
   "outputs": [],
   "source": [
    "# item based with cosine similarity\n",
    "sim_options = {'name': 'cosine',\n",
    "               'user_based': False  # compute  similarities between items\n",
    "               }"
   ]
  },
  {
   "cell_type": "code",
   "execution_count": 36,
   "metadata": {},
   "outputs": [],
   "source": [
    "normal_predictor = NormalPredictor()\n",
    "baseline= BaselineOnly()\n",
    "svd= SVD()\n",
    "svdpp= SVDpp()\n",
    "nmf= NMF()\n",
    "knnbasic= KNNBasic(sim_options=sim_options)\n",
    "knnwithmeans= KNNWithMeans(sim_options=sim_options)\n",
    "knnwithzscore= KNNWithZScore(sim_options=sim_options)\n",
    "knnbaseline= KNNBaseline(sim_options=sim_options)\n",
    "slopeone= SlopeOne()\n",
    "coclustering = CoClustering()"
   ]
  },
  {
   "cell_type": "markdown",
   "metadata": {},
   "source": [
    "### Normal predictor\n",
    "Algorithm predicting a random rating based on the distribution of the training set, which is assumed to be normal."
   ]
  },
  {
   "cell_type": "code",
   "execution_count": 37,
   "metadata": {},
   "outputs": [
    {
     "name": "stdout",
     "output_type": "stream",
     "text": [
      "Evaluating RMSE, MAE of algorithm NormalPredictor on 5 split(s).\n",
      "\n",
      "                  Fold 1  Fold 2  Fold 3  Fold 4  Fold 5  Mean    Std     \n",
      "RMSE (testset)    2.1326  2.1766  2.0371  2.1107  2.0313  2.0977  0.0560  \n",
      "MAE (testset)     1.4097  1.4648  1.3656  1.4201  1.3696  1.4059  0.0364  \n",
      "Fit time          0.01    0.01    0.01    0.01    0.01    0.01    0.00    \n",
      "Test time         0.02    0.02    0.02    0.02    0.06    0.03    0.02    \n"
     ]
    },
    {
     "data": {
      "text/plain": [
       "{'test_rmse': array([2.13257472, 2.1765868 , 2.03713548, 2.11068364, 2.03131781]),\n",
       " 'test_mae': array([1.40970154, 1.46481023, 1.36560614, 1.42007252, 1.36955709]),\n",
       " 'fit_time': (0.011806011199951172,\n",
       "  0.011924982070922852,\n",
       "  0.011499166488647461,\n",
       "  0.011977910995483398,\n",
       "  0.012494087219238281),\n",
       " 'test_time': (0.021757125854492188,\n",
       "  0.015548944473266602,\n",
       "  0.016412973403930664,\n",
       "  0.016109704971313477,\n",
       "  0.06027483940124512)}"
      ]
     },
     "execution_count": 37,
     "metadata": {},
     "output_type": "execute_result"
    }
   ],
   "source": [
    "cross_validate(normal_predictor, data, measures=['RMSE', 'MAE'], cv=5, verbose=True)"
   ]
  },
  {
   "cell_type": "markdown",
   "metadata": {},
   "source": [
    "Rating prediction of user with userId 1029334396 for the item b10672874 :"
   ]
  },
  {
   "cell_type": "code",
   "execution_count": 38,
   "metadata": {},
   "outputs": [
    {
     "name": "stdout",
     "output_type": "stream",
     "text": [
      "user: 1029334396 item: b10672874  r_ui = None   est = 3.49   {'was_impossible': False}\n"
     ]
    }
   ],
   "source": [
    "uid = str('1029334396')  # raw user id (as in the ratings file). They are **strings**!\n",
    "iid = str('b10672874')  # raw item id (as in the ratings file). They are **strings**!\n",
    "prediction = normal_predictor.predict(uid, iid, verbose=True)"
   ]
  },
  {
   "cell_type": "markdown",
   "metadata": {},
   "source": [
    "## Baseline predictor\n",
    "Algorithm predicting the baseline estimate for given user and item."
   ]
  },
  {
   "cell_type": "code",
   "execution_count": 39,
   "metadata": {},
   "outputs": [
    {
     "name": "stdout",
     "output_type": "stream",
     "text": [
      "Estimating biases using als...\n",
      "Estimating biases using als...\n",
      "Estimating biases using als...\n",
      "Estimating biases using als...\n",
      "Estimating biases using als...\n",
      "Evaluating RMSE, MAE of algorithm BaselineOnly on 5 split(s).\n",
      "\n",
      "                  Fold 1  Fold 2  Fold 3  Fold 4  Fold 5  Mean    Std     \n",
      "RMSE (testset)    0.7699  0.7657  0.7836  0.7235  0.7580  0.7602  0.0201  \n",
      "MAE (testset)     0.5284  0.5290  0.5302  0.5067  0.5275  0.5244  0.0089  \n",
      "Fit time          0.03    0.03    0.03    0.03    0.03    0.03    0.00    \n",
      "Test time         0.01    0.01    0.01    0.01    0.01    0.01    0.00    \n"
     ]
    },
    {
     "data": {
      "text/plain": [
       "{'test_rmse': array([0.76988616, 0.76571989, 0.78364936, 0.72353258, 0.75799769]),\n",
       " 'test_mae': array([0.52843452, 0.52898827, 0.53021872, 0.50665796, 0.52749169]),\n",
       " 'fit_time': (0.026382923126220703,\n",
       "  0.02678513526916504,\n",
       "  0.026502132415771484,\n",
       "  0.03130197525024414,\n",
       "  0.027807950973510742),\n",
       " 'test_time': (0.012319803237915039,\n",
       "  0.012804031372070312,\n",
       "  0.01242208480834961,\n",
       "  0.012941837310791016,\n",
       "  0.012237787246704102)}"
      ]
     },
     "execution_count": 39,
     "metadata": {},
     "output_type": "execute_result"
    }
   ],
   "source": [
    "cross_validate(baseline, data, measures=['RMSE', 'MAE'], cv=5, verbose=True)"
   ]
  },
  {
   "cell_type": "markdown",
   "metadata": {},
   "source": [
    "Rating prediction of user with userId 1029334396 for the item b10672874 :"
   ]
  },
  {
   "cell_type": "code",
   "execution_count": 40,
   "metadata": {},
   "outputs": [
    {
     "name": "stdout",
     "output_type": "stream",
     "text": [
      "user: 1029334396 item: b10672874  r_ui = None   est = 1.80   {'was_impossible': False}\n"
     ]
    }
   ],
   "source": [
    "prediction = baseline.predict(uid, iid, verbose=True)"
   ]
  },
  {
   "cell_type": "markdown",
   "metadata": {},
   "source": [
    "### SVD predictor\n",
    "The famous SVD algorithm, as popularized by Simon Funk during the Netflix Prize."
   ]
  },
  {
   "cell_type": "code",
   "execution_count": 41,
   "metadata": {},
   "outputs": [
    {
     "name": "stdout",
     "output_type": "stream",
     "text": [
      "Evaluating RMSE, MAE of algorithm SVD on 5 split(s).\n",
      "\n",
      "                  Fold 1  Fold 2  Fold 3  Fold 4  Fold 5  Mean    Std     \n",
      "RMSE (testset)    0.5712  0.6095  0.6410  0.5839  0.5583  0.5928  0.0295  \n",
      "MAE (testset)     0.3749  0.3676  0.3882  0.3674  0.3704  0.3737  0.0077  \n",
      "Fit time          0.58    0.58    0.58    0.57    0.58    0.58    0.00    \n",
      "Test time         0.02    0.01    0.01    0.01    0.01    0.02    0.00    \n"
     ]
    },
    {
     "data": {
      "text/plain": [
       "{'test_rmse': array([0.57119402, 0.6095161 , 0.64100328, 0.58385775, 0.55829292]),\n",
       " 'test_mae': array([0.3748644 , 0.36757333, 0.38820512, 0.36739562, 0.37041549]),\n",
       " 'fit_time': (0.5815989971160889,\n",
       "  0.5773200988769531,\n",
       "  0.5844149589538574,\n",
       "  0.5736262798309326,\n",
       "  0.5750129222869873),\n",
       " 'test_time': (0.021315813064575195,\n",
       "  0.01418304443359375,\n",
       "  0.014240026473999023,\n",
       "  0.014393806457519531,\n",
       "  0.014544248580932617)}"
      ]
     },
     "execution_count": 41,
     "metadata": {},
     "output_type": "execute_result"
    }
   ],
   "source": [
    "cross_validate(svd, data, measures=['RMSE', 'MAE'], cv=5, verbose=True)"
   ]
  },
  {
   "cell_type": "markdown",
   "metadata": {},
   "source": [
    "Rating prediction of user with userId 1029334396 for the item b10672874 :"
   ]
  },
  {
   "cell_type": "code",
   "execution_count": 42,
   "metadata": {},
   "outputs": [
    {
     "name": "stdout",
     "output_type": "stream",
     "text": [
      "user: 1029334396 item: b10672874  r_ui = None   est = 1.85   {'was_impossible': False}\n"
     ]
    }
   ],
   "source": [
    "prediction = svd.predict(uid, iid, verbose=True)"
   ]
  },
  {
   "cell_type": "markdown",
   "metadata": {},
   "source": [
    "### svdpp predictor\n",
    "The SVD++ algorithm, an extension of SVD taking into account implicit ratings."
   ]
  },
  {
   "cell_type": "code",
   "execution_count": 43,
   "metadata": {
    "scrolled": true
   },
   "outputs": [
    {
     "name": "stdout",
     "output_type": "stream",
     "text": [
      "Evaluating RMSE, MAE of algorithm SVDpp on 5 split(s).\n",
      "\n",
      "                  Fold 1  Fold 2  Fold 3  Fold 4  Fold 5  Mean    Std     \n",
      "RMSE (testset)    0.5066  0.4955  0.5424  0.5821  0.5541  0.5361  0.0316  \n",
      "MAE (testset)     0.3310  0.3261  0.3402  0.3401  0.3383  0.3351  0.0056  \n",
      "Fit time          21.45   22.12   21.32   21.00   21.51   21.48   0.36    \n",
      "Test time         0.15    0.14    0.15    0.15    0.14    0.15    0.00    \n"
     ]
    },
    {
     "data": {
      "text/plain": [
       "{'test_rmse': array([0.50663929, 0.49550522, 0.54241625, 0.58206924, 0.55407901]),\n",
       " 'test_mae': array([0.33098231, 0.32609557, 0.34020877, 0.3400817 , 0.33829113]),\n",
       " 'fit_time': (21.44910216331482,\n",
       "  22.118531227111816,\n",
       "  21.318477153778076,\n",
       "  20.9997661113739,\n",
       "  21.50630497932434),\n",
       " 'test_time': (0.14574503898620605,\n",
       "  0.14242291450500488,\n",
       "  0.14516210556030273,\n",
       "  0.15268778800964355,\n",
       "  0.14075279235839844)}"
      ]
     },
     "execution_count": 43,
     "metadata": {},
     "output_type": "execute_result"
    }
   ],
   "source": [
    "cross_validate(svdpp, data, measures=['RMSE', 'MAE'], cv=5, verbose=True)"
   ]
  },
  {
   "cell_type": "markdown",
   "metadata": {},
   "source": [
    "Rating prediction of user with userId 1029334396 for the item b10672874 :"
   ]
  },
  {
   "cell_type": "code",
   "execution_count": 44,
   "metadata": {},
   "outputs": [
    {
     "name": "stdout",
     "output_type": "stream",
     "text": [
      "user: 1029334396 item: b10672874  r_ui = None   est = 1.77   {'was_impossible': False}\n"
     ]
    }
   ],
   "source": [
    "prediction = svdpp.predict(uid, iid, verbose=True)"
   ]
  },
  {
   "cell_type": "markdown",
   "metadata": {},
   "source": [
    "### NMF predictor\n",
    "A collaborative filtering algorithm based on Non-negative Matrix Factorization."
   ]
  },
  {
   "cell_type": "code",
   "execution_count": 45,
   "metadata": {},
   "outputs": [
    {
     "name": "stdout",
     "output_type": "stream",
     "text": [
      "Evaluating RMSE, MAE of algorithm NMF on 5 split(s).\n",
      "\n",
      "                  Fold 1  Fold 2  Fold 3  Fold 4  Fold 5  Mean    Std     \n",
      "RMSE (testset)    0.6434  0.6265  0.6125  0.6121  0.6296  0.6248  0.0117  \n",
      "MAE (testset)     0.5148  0.5077  0.5018  0.5046  0.5195  0.5097  0.0066  \n",
      "Fit time          1.07    1.07    1.10    1.12    1.05    1.08    0.03    \n",
      "Test time         0.02    0.01    0.01    0.01    0.01    0.01    0.00    \n"
     ]
    },
    {
     "data": {
      "text/plain": [
       "{'test_rmse': array([0.64336966, 0.62645472, 0.61245184, 0.6120536 , 0.6296436 ]),\n",
       " 'test_mae': array([0.51481432, 0.50765784, 0.50178921, 0.50457813, 0.51952675]),\n",
       " 'fit_time': (1.0703179836273193,\n",
       "  1.068734884262085,\n",
       "  1.1000869274139404,\n",
       "  1.1184380054473877,\n",
       "  1.0478661060333252),\n",
       " 'test_time': (0.015620231628417969,\n",
       "  0.014505863189697266,\n",
       "  0.014364957809448242,\n",
       "  0.013847112655639648,\n",
       "  0.013979911804199219)}"
      ]
     },
     "execution_count": 45,
     "metadata": {},
     "output_type": "execute_result"
    }
   ],
   "source": [
    "cross_validate(nmf, data, measures=['RMSE', 'MAE'], cv=5, verbose=True)"
   ]
  },
  {
   "cell_type": "markdown",
   "metadata": {},
   "source": [
    "Rating prediction of user with userId 1029334396 for the item b10672874 :"
   ]
  },
  {
   "cell_type": "code",
   "execution_count": 46,
   "metadata": {},
   "outputs": [
    {
     "name": "stdout",
     "output_type": "stream",
     "text": [
      "user: 1029334396 item: b10672874  r_ui = None   est = 1.84   {'was_impossible': True, 'reason': 'User and item are unkown.'}\n"
     ]
    }
   ],
   "source": [
    "prediction = nmf.predict(uid, iid, verbose=True)"
   ]
  },
  {
   "cell_type": "markdown",
   "metadata": {},
   "source": [
    "### KNNbaseline predictor\n",
    "A basic collaborative filtering algorithm taking into account a baseline rating."
   ]
  },
  {
   "cell_type": "code",
   "execution_count": 47,
   "metadata": {},
   "outputs": [
    {
     "name": "stdout",
     "output_type": "stream",
     "text": [
      "Estimating biases using als...\n",
      "Computing the cosine similarity matrix...\n",
      "Done computing similarity matrix.\n",
      "Estimating biases using als...\n",
      "Computing the cosine similarity matrix...\n",
      "Done computing similarity matrix.\n",
      "Estimating biases using als...\n",
      "Computing the cosine similarity matrix...\n",
      "Done computing similarity matrix.\n",
      "Estimating biases using als...\n",
      "Computing the cosine similarity matrix...\n",
      "Done computing similarity matrix.\n",
      "Estimating biases using als...\n",
      "Computing the cosine similarity matrix...\n",
      "Done computing similarity matrix.\n",
      "Evaluating RMSE, MAE of algorithm KNNBaseline on 5 split(s).\n",
      "\n",
      "                  Fold 1  Fold 2  Fold 3  Fold 4  Fold 5  Mean    Std     \n",
      "RMSE (testset)    0.7592  0.6882  0.7293  0.7156  0.7345  0.7254  0.0233  \n",
      "MAE (testset)     0.5370  0.4967  0.5102  0.4979  0.5191  0.5122  0.0149  \n",
      "Fit time          3.91    2.92    2.49    2.39    2.45    2.83    0.57    \n",
      "Test time         0.17    0.14    0.15    0.15    0.13    0.15    0.01    \n"
     ]
    },
    {
     "data": {
      "text/plain": [
       "{'test_rmse': array([0.75916377, 0.68815417, 0.72931703, 0.71559565, 0.73452387]),\n",
       " 'test_mae': array([0.53701538, 0.49671685, 0.51021025, 0.49787166, 0.51909744]),\n",
       " 'fit_time': (3.9077329635620117,\n",
       "  2.9157540798187256,\n",
       "  2.4894120693206787,\n",
       "  2.3920671939849854,\n",
       "  2.4501078128814697),\n",
       " 'test_time': (0.16677093505859375,\n",
       "  0.13987183570861816,\n",
       "  0.1497037410736084,\n",
       "  0.15231108665466309,\n",
       "  0.12917208671569824)}"
      ]
     },
     "execution_count": 47,
     "metadata": {},
     "output_type": "execute_result"
    }
   ],
   "source": [
    "cross_validate(knnbaseline, data, measures=['RMSE', 'MAE'], cv=5, verbose=True)"
   ]
  },
  {
   "cell_type": "markdown",
   "metadata": {},
   "source": [
    "Rating prediction of user with userId 1029334396 for the item b10672874 :"
   ]
  },
  {
   "cell_type": "code",
   "execution_count": 48,
   "metadata": {},
   "outputs": [
    {
     "name": "stdout",
     "output_type": "stream",
     "text": [
      "user: 1029334396 item: b10672874  r_ui = None   est = 1.85   {'was_impossible': False}\n"
     ]
    }
   ],
   "source": [
    "prediction = knnbaseline.predict(uid, iid, verbose=True)"
   ]
  },
  {
   "cell_type": "markdown",
   "metadata": {},
   "source": [
    "### KNNbasic predictor\n",
    "A basic collaborative filtering algorithm."
   ]
  },
  {
   "cell_type": "code",
   "execution_count": 49,
   "metadata": {},
   "outputs": [
    {
     "name": "stdout",
     "output_type": "stream",
     "text": [
      "Computing the cosine similarity matrix...\n",
      "Done computing similarity matrix.\n",
      "Computing the cosine similarity matrix...\n",
      "Done computing similarity matrix.\n",
      "Computing the cosine similarity matrix...\n",
      "Done computing similarity matrix.\n",
      "Computing the cosine similarity matrix...\n",
      "Done computing similarity matrix.\n",
      "Computing the cosine similarity matrix...\n",
      "Done computing similarity matrix.\n",
      "Evaluating RMSE, MAE of algorithm KNNBasic on 5 split(s).\n",
      "\n",
      "                  Fold 1  Fold 2  Fold 3  Fold 4  Fold 5  Mean    Std     \n",
      "RMSE (testset)    1.4897  1.4862  1.4777  1.4075  1.6090  1.4940  0.0649  \n",
      "MAE (testset)     0.9596  0.9685  0.9517  0.9399  1.0022  0.9644  0.0211  \n",
      "Fit time          2.40    2.52    2.49    2.40    2.42    2.45    0.05    \n",
      "Test time         0.14    0.13    0.13    0.13    0.14    0.13    0.01    \n"
     ]
    },
    {
     "data": {
      "text/plain": [
       "{'test_rmse': array([1.48970839, 1.48616206, 1.47773335, 1.40747723, 1.60901652]),\n",
       " 'test_mae': array([0.95955517, 0.9684906 , 0.95173386, 0.93989201, 1.0022099 ]),\n",
       " 'fit_time': (2.40061616897583,\n",
       "  2.5154640674591064,\n",
       "  2.486947774887085,\n",
       "  2.4018537998199463,\n",
       "  2.423434019088745),\n",
       " 'test_time': (0.1383800506591797,\n",
       "  0.12982892990112305,\n",
       "  0.12579917907714844,\n",
       "  0.1259138584136963,\n",
       "  0.1356201171875)}"
      ]
     },
     "execution_count": 49,
     "metadata": {},
     "output_type": "execute_result"
    }
   ],
   "source": [
    "cross_validate(knnbasic, data, measures=['RMSE', 'MAE'], cv=5, verbose=True)"
   ]
  },
  {
   "cell_type": "markdown",
   "metadata": {},
   "source": [
    "Rating prediction of user with userId 1029334396 for the item b10672874 :"
   ]
  },
  {
   "cell_type": "code",
   "execution_count": 50,
   "metadata": {},
   "outputs": [
    {
     "name": "stdout",
     "output_type": "stream",
     "text": [
      "user: 1029334396 item: b10672874  r_ui = None   est = 1.83   {'was_impossible': True, 'reason': 'User and/or item is unkown.'}\n"
     ]
    }
   ],
   "source": [
    "prediction = knnbasic.predict(uid, iid, verbose=True)"
   ]
  },
  {
   "cell_type": "markdown",
   "metadata": {},
   "source": [
    "### KNNwithmeans predictor\n",
    "A basic collaborative filtering algorithm, taking into account the mean ratings of each user."
   ]
  },
  {
   "cell_type": "code",
   "execution_count": 51,
   "metadata": {},
   "outputs": [
    {
     "name": "stdout",
     "output_type": "stream",
     "text": [
      "Computing the cosine similarity matrix...\n",
      "Done computing similarity matrix.\n",
      "Computing the cosine similarity matrix...\n",
      "Done computing similarity matrix.\n",
      "Computing the cosine similarity matrix...\n",
      "Done computing similarity matrix.\n",
      "Computing the cosine similarity matrix...\n",
      "Done computing similarity matrix.\n",
      "Computing the cosine similarity matrix...\n",
      "Done computing similarity matrix.\n",
      "Evaluating RMSE, MAE of algorithm KNNWithMeans on 5 split(s).\n",
      "\n",
      "                  Fold 1  Fold 2  Fold 3  Fold 4  Fold 5  Mean    Std     \n",
      "RMSE (testset)    0.5779  0.5883  0.5995  0.5660  0.6115  0.5886  0.0159  \n",
      "MAE (testset)     0.4356  0.4397  0.4418  0.4216  0.4623  0.4402  0.0131  \n",
      "Fit time          2.45    2.68    2.41    2.44    2.40    2.48    0.11    \n",
      "Test time         0.14    0.15    0.13    0.14    0.13    0.14    0.01    \n"
     ]
    },
    {
     "data": {
      "text/plain": [
       "{'test_rmse': array([0.57789424, 0.58833965, 0.59947316, 0.56601637, 0.6115156 ]),\n",
       " 'test_mae': array([0.43559806, 0.43965526, 0.44184667, 0.42164097, 0.46225804]),\n",
       " 'fit_time': (2.447639226913452,\n",
       "  2.6834497451782227,\n",
       "  2.409020185470581,\n",
       "  2.4392378330230713,\n",
       "  2.4013900756835938),\n",
       " 'test_time': (0.14124011993408203,\n",
       "  0.1459197998046875,\n",
       "  0.1259756088256836,\n",
       "  0.13715386390686035,\n",
       "  0.12549400329589844)}"
      ]
     },
     "execution_count": 51,
     "metadata": {},
     "output_type": "execute_result"
    }
   ],
   "source": [
    "cross_validate(knnwithmeans, data, measures=['RMSE', 'MAE'], cv=5, verbose=True)"
   ]
  },
  {
   "cell_type": "markdown",
   "metadata": {},
   "source": [
    "Rating prediction of user with userId 1029334396 for the item b10672874 :"
   ]
  },
  {
   "cell_type": "code",
   "execution_count": 52,
   "metadata": {},
   "outputs": [
    {
     "name": "stdout",
     "output_type": "stream",
     "text": [
      "user: 1029334396 item: b10672874  r_ui = None   est = 1.85   {'was_impossible': True, 'reason': 'User and/or item is unkown.'}\n"
     ]
    }
   ],
   "source": [
    "prediction = knnwithmeans.predict(uid, iid, verbose=True)"
   ]
  },
  {
   "cell_type": "markdown",
   "metadata": {},
   "source": [
    "### KNNwithzscore predictor\n",
    "A basic collaborative filtering algorithm, taking into account the z-score normalization of each user."
   ]
  },
  {
   "cell_type": "code",
   "execution_count": 53,
   "metadata": {},
   "outputs": [
    {
     "name": "stdout",
     "output_type": "stream",
     "text": [
      "Computing the cosine similarity matrix...\n",
      "Done computing similarity matrix.\n",
      "Computing the cosine similarity matrix...\n",
      "Done computing similarity matrix.\n",
      "Computing the cosine similarity matrix...\n",
      "Done computing similarity matrix.\n",
      "Computing the cosine similarity matrix...\n",
      "Done computing similarity matrix.\n",
      "Computing the cosine similarity matrix...\n",
      "Done computing similarity matrix.\n",
      "Evaluating RMSE, MAE of algorithm KNNWithZScore on 5 split(s).\n",
      "\n",
      "                  Fold 1  Fold 2  Fold 3  Fold 4  Fold 5  Mean    Std     \n",
      "RMSE (testset)    0.6367  0.6258  0.6210  0.6138  0.6185  0.6231  0.0078  \n",
      "MAE (testset)     0.4904  0.4839  0.4749  0.4823  0.4765  0.4816  0.0056  \n",
      "Fit time          2.65    2.77    2.67    2.53    2.54    2.63    0.09    \n",
      "Test time         0.14    0.14    0.14    0.16    0.14    0.14    0.01    \n"
     ]
    },
    {
     "data": {
      "text/plain": [
       "{'test_rmse': array([0.63672763, 0.62583665, 0.62097403, 0.61375236, 0.61845568]),\n",
       " 'test_mae': array([0.4904351 , 0.48391034, 0.47487126, 0.48234681, 0.47652577]),\n",
       " 'fit_time': (2.6481120586395264,\n",
       "  2.772895097732544,\n",
       "  2.6724438667297363,\n",
       "  2.534942150115967,\n",
       "  2.5388131141662598),\n",
       " 'test_time': (0.13785886764526367,\n",
       "  0.13820862770080566,\n",
       "  0.14329290390014648,\n",
       "  0.1557481288909912,\n",
       "  0.13675498962402344)}"
      ]
     },
     "execution_count": 53,
     "metadata": {},
     "output_type": "execute_result"
    }
   ],
   "source": [
    "cross_validate(knnwithzscore, data, measures=['RMSE', 'MAE'], cv=5, verbose=True)"
   ]
  },
  {
   "cell_type": "markdown",
   "metadata": {},
   "source": [
    "Rating prediction of user with userId 1029334396 for the item b10672874 :"
   ]
  },
  {
   "cell_type": "code",
   "execution_count": 54,
   "metadata": {},
   "outputs": [
    {
     "name": "stdout",
     "output_type": "stream",
     "text": [
      "user: 1029334396 item: b10672874  r_ui = None   est = 1.84   {'was_impossible': True, 'reason': 'User and/or item is unkown.'}\n"
     ]
    }
   ],
   "source": [
    "prediction = knnwithzscore.predict(uid, iid, verbose=True)"
   ]
  },
  {
   "cell_type": "markdown",
   "metadata": {},
   "source": [
    "### SlopeOne predictor\n",
    "A simple yet accurate collaborative filtering algorithm."
   ]
  },
  {
   "cell_type": "code",
   "execution_count": 55,
   "metadata": {},
   "outputs": [
    {
     "name": "stdout",
     "output_type": "stream",
     "text": [
      "Evaluating RMSE, MAE of algorithm SlopeOne on 5 split(s).\n",
      "\n",
      "                  Fold 1  Fold 2  Fold 3  Fold 4  Fold 5  Mean    Std     \n",
      "RMSE (testset)    0.7607  0.7769  0.7578  0.7566  0.7403  0.7585  0.0117  \n",
      "MAE (testset)     0.6088  0.6153  0.6228  0.6076  0.6136  0.6136  0.0054  \n",
      "Fit time          1.05    1.18    1.09    1.16    1.13    1.12    0.05    \n",
      "Test time         0.10    0.09    0.09    0.09    0.09    0.09    0.00    \n"
     ]
    },
    {
     "data": {
      "text/plain": [
       "{'test_rmse': array([0.76071902, 0.77691314, 0.75783339, 0.7565935 , 0.74030618]),\n",
       " 'test_mae': array([0.60876187, 0.61534837, 0.6228146 , 0.60758731, 0.61359248]),\n",
       " 'fit_time': (1.0454769134521484,\n",
       "  1.1777009963989258,\n",
       "  1.0933492183685303,\n",
       "  1.1551129817962646,\n",
       "  1.1318471431732178),\n",
       " 'test_time': (0.0964360237121582,\n",
       "  0.08788204193115234,\n",
       "  0.09347677230834961,\n",
       "  0.09494495391845703,\n",
       "  0.0912771224975586)}"
      ]
     },
     "execution_count": 55,
     "metadata": {},
     "output_type": "execute_result"
    }
   ],
   "source": [
    "cross_validate(slopeone, data, measures=['RMSE', 'MAE'], cv=5, verbose=True)"
   ]
  },
  {
   "cell_type": "markdown",
   "metadata": {},
   "source": [
    "Rating prediction of user with userId 1029334396 for the item b10672874 :"
   ]
  },
  {
   "cell_type": "code",
   "execution_count": 56,
   "metadata": {},
   "outputs": [
    {
     "name": "stdout",
     "output_type": "stream",
     "text": [
      "user: 1029334396 item: b10672874  r_ui = None   est = 1.85   {'was_impossible': True, 'reason': 'User and/or item is unkown.'}\n"
     ]
    }
   ],
   "source": [
    "prediction = slopeone.predict(uid, iid, verbose=True)"
   ]
  },
  {
   "cell_type": "markdown",
   "metadata": {},
   "source": [
    "### CoClustering predictor\n",
    "A collaborative filtering algorithm based on co-clustering."
   ]
  },
  {
   "cell_type": "code",
   "execution_count": 57,
   "metadata": {},
   "outputs": [
    {
     "name": "stdout",
     "output_type": "stream",
     "text": [
      "Evaluating RMSE, MAE of algorithm CoClustering on 5 split(s).\n",
      "\n",
      "                  Fold 1  Fold 2  Fold 3  Fold 4  Fold 5  Mean    Std     \n",
      "RMSE (testset)    0.7766  0.7596  0.7487  0.7696  0.8849  0.7879  0.0494  \n",
      "MAE (testset)     0.6423  0.6305  0.6283  0.6400  0.7066  0.6495  0.0290  \n",
      "Fit time          0.75    0.73    0.75    0.73    0.72    0.73    0.01    \n",
      "Test time         0.01    0.01    0.01    0.01    0.01    0.01    0.00    \n"
     ]
    },
    {
     "data": {
      "text/plain": [
       "{'test_rmse': array([0.77658145, 0.75955913, 0.74867186, 0.7695661 , 0.88491945]),\n",
       " 'test_mae': array([0.64231219, 0.63048916, 0.62828117, 0.63998049, 0.70663594]),\n",
       " 'fit_time': (0.7471780776977539,\n",
       "  0.7275550365447998,\n",
       "  0.7462620735168457,\n",
       "  0.7293949127197266,\n",
       "  0.7227489948272705),\n",
       " 'test_time': (0.012933015823364258,\n",
       "  0.012545108795166016,\n",
       "  0.012220144271850586,\n",
       "  0.01227116584777832,\n",
       "  0.011944055557250977)}"
      ]
     },
     "execution_count": 57,
     "metadata": {},
     "output_type": "execute_result"
    }
   ],
   "source": [
    "#evaluate(coclustering, data, measures=[\"RMSE\", \"MAE\"])\n",
    "cross_validate(coclustering, data, measures=['RMSE', 'MAE'], cv=5, verbose=True)"
   ]
  },
  {
   "cell_type": "markdown",
   "metadata": {},
   "source": [
    "Rating prediction of user with userId 1029334396 for the item b10672874 :"
   ]
  },
  {
   "cell_type": "code",
   "execution_count": 58,
   "metadata": {},
   "outputs": [
    {
     "name": "stdout",
     "output_type": "stream",
     "text": [
      "user: 1029334396 item: b10672874  r_ui = None   est = 1.84   {'was_impossible': False}\n"
     ]
    }
   ],
   "source": [
    "prediction = coclustering.predict(uid, iid, verbose=True)"
   ]
  },
  {
   "cell_type": "markdown",
   "metadata": {},
   "source": [
    "## References"
   ]
  },
  {
   "cell_type": "markdown",
   "metadata": {},
   "source": [
    "1. https://pandas.pydata.org/\n",
    "2. https://www.numpy.org/\n",
    "3. https://scikit-learn.org/stable/\n",
    "4. http://surpriselib.com/"
   ]
  }
 ],
 "metadata": {
  "kernelspec": {
   "display_name": "Python 3",
   "language": "python",
   "name": "python3"
  },
  "language_info": {
   "codemirror_mode": {
    "name": "ipython",
    "version": 3
   },
   "file_extension": ".py",
   "mimetype": "text/x-python",
   "name": "python",
   "nbconvert_exporter": "python",
   "pygments_lexer": "ipython3",
   "version": "3.6.8"
  }
 },
 "nbformat": 4,
 "nbformat_minor": 2
}
